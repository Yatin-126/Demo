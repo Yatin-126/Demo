{
  "cells": [
    {
      "cell_type": "markdown",
      "metadata": {
        "id": "view-in-github",
        "colab_type": "text"
      },
      "source": [
        "<a href=\"https://colab.research.google.com/github/Yatin-126/Demo/blob/main/Welcome_To_Colab.ipynb\" target=\"_parent\"><img src=\"https://colab.research.google.com/assets/colab-badge.svg\" alt=\"Open In Colab\"/></a>"
      ]
    },
    {
      "cell_type": "code",
      "source": [
        "import pandas as pd\n",
        "import numpy as np\n",
        "from sklearn.model_selection import KFold\n",
        "from sklearn.linear_model import LogisticRegression\n",
        "from sklearn.metrics import accuracy_score\n",
        "from sklearn.preprocessing import StandardScaler\n",
        "\n",
        "# Load dataset - adjust filename if needed\n",
        "df = pd.read_csv('winequality-red.csv', delimiter=';')\n",
        "\n",
        "# Clean up column names by stripping whitespace\n",
        "df.columns = df.columns.str.strip()\n",
        "\n",
        "# For simplicity, convert quality to binary classification:\n",
        "# quality >=7 as \"good\" wine (1), else \"bad\" wine (0)\n",
        "df['quality_binary'] = (df['quality'] >= 7).astype(int)\n",
        "\n",
        "# Prepare features and target\n",
        "X = df.drop(['quality', 'quality_binary'], axis=1).values\n",
        "y = df['quality_binary'].values\n",
        "\n",
        "# Feature scaling (important for Logistic Regression)\n",
        "scaler = StandardScaler()\n",
        "X = scaler.fit_transform(X)\n",
        "\n",
        "# Initialize KFold with 5 splits\n",
        "kf = KFold(n_splits=5, shuffle=True, random_state=42)\n",
        "\n",
        "model = LogisticRegression(max_iter=1000)\n",
        "\n",
        "accuracies = []\n",
        "\n",
        "for train_index, test_index in kf.split(X):\n",
        "    X_train, X_test = X[train_index], X[test_index]\n",
        "    y_train, y_test = y[train_index], y[test_index]\n",
        "\n",
        "    model.fit(X_train, y_train)\n",
        "    preds = model.predict(X_test)\n",
        "    acc = accuracy_score(y_test, preds)\n",
        "    accuracies.append(acc)\n",
        "\n",
        "print(f\"Average Accuracy with 5-Fold CV: {np.mean(accuracies):.4f}\")"
      ],
      "metadata": {
        "id": "S4qcBuGqOYUe",
        "outputId": "fe49c88a-7aee-47f2-d28a-89c5463eee0e",
        "colab": {
          "base_uri": "https://localhost:8080/"
        }
      },
      "execution_count": 16,
      "outputs": [
        {
          "output_type": "stream",
          "name": "stdout",
          "text": [
            "Average Accuracy with 5-Fold CV: 0.8768\n"
          ]
        }
      ]
    }
  ],
  "metadata": {
    "colab": {
      "name": "Welcome To Colab",
      "provenance": [],
      "include_colab_link": true
    },
    "kernelspec": {
      "display_name": "Python 3",
      "name": "python3"
    }
  },
  "nbformat": 4,
  "nbformat_minor": 0
}